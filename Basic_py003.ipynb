{
 "cells": [
  {
   "cell_type": "code",
   "execution_count": 1,
   "id": "886906a3-b420-4703-92e4-5093a64f674a",
   "metadata": {},
   "outputs": [
    {
     "name": "stdout",
     "output_type": "stream",
     "text": [
      "handsome\n"
     ]
    }
   ],
   "source": [
    "#字典\n",
    "people={\n",
    "    \"li runduo\":\"handsome\",\n",
    "}\n",
    "print (people[\"li runduo\"])"
   ]
  },
  {
   "cell_type": "code",
   "execution_count": 2,
   "id": "38ceb6ed-6862-47b9-807e-f9bb669f7e9f",
   "metadata": {},
   "outputs": [
    {
     "name": "stdout",
     "output_type": "stream",
     "text": [
      "{'li runduo': 'handsome', 'miao qiuyan': 'little handsome', 'wang zonghan': 'tall'}\n"
     ]
    }
   ],
   "source": [
    "people['miao qiuyan']='little handsome'#增加键值对\n",
    "people['wang zonghan']='tall'\n",
    "print (people)"
   ]
  },
  {
   "cell_type": "code",
   "execution_count": 3,
   "id": "3f9c3a39-4026-4651-87da-092af2ca1eab",
   "metadata": {},
   "outputs": [
    {
     "name": "stdout",
     "output_type": "stream",
     "text": [
      "{'li runduo': 'more handsome', 'miao qiuyan': 'little handsome'}\n"
     ]
    }
   ],
   "source": [
    "people['li runduo']='more handsome'#改变值\n",
    "del people['wang zonghan']#删除键值对\n",
    "print (people)"
   ]
  },
  {
   "cell_type": "code",
   "execution_count": null,
   "id": "b6264af4-99cf-4c5a-ab5a-cb7d514aa9fc",
   "metadata": {},
   "outputs": [],
   "source": []
  }
 ],
 "metadata": {
  "kernelspec": {
   "display_name": "Python 3 (ipykernel)",
   "language": "python",
   "name": "python3"
  },
  "language_info": {
   "codemirror_mode": {
    "name": "ipython",
    "version": 3
   },
   "file_extension": ".py",
   "mimetype": "text/x-python",
   "name": "python",
   "nbconvert_exporter": "python",
   "pygments_lexer": "ipython3",
   "version": "3.10.18"
  }
 },
 "nbformat": 4,
 "nbformat_minor": 5
}
