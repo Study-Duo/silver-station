{
 "cells": [
  {
   "cell_type": "code",
   "execution_count": 1,
   "id": "ad6bc4b2-ccb3-41ca-9b66-c771ad79dd88",
   "metadata": {},
   "outputs": [
    {
     "name": "stdout",
     "output_type": "stream",
     "text": [
      "Hello PyTorch!\n"
     ]
    }
   ],
   "source": [
    "print(\"Hello PyTorch!\")"
   ]
  },
  {
   "cell_type": "code",
   "execution_count": 2,
   "id": "5cd37c95-5890-4067-820b-8c016aea86a6",
   "metadata": {},
   "outputs": [
    {
     "name": "stdout",
     "output_type": "stream",
     "text": [
      "乘积: 12\n",
      "大写: DUO\n"
     ]
    }
   ],
   "source": [
    "a=3\n",
    "b=4\n",
    "print(\"乘积:\",a*b)\n",
    "\n",
    "name =\"duo\"\n",
    "print(\"大写:\",name.upper())"
   ]
  },
  {
   "cell_type": "code",
   "execution_count": 3,
   "id": "7715982f-7b59-4b5d-a873-02a8bedef2fa",
   "metadata": {},
   "outputs": [
    {
     "name": "stdout",
     "output_type": "stream",
     "text": [
      "第 1 条: Braund, Mr. Owen Harris\n",
      "一共几条: 3\n"
     ]
    }
   ],
   "source": [
    "names = [\"Braund, Mr. Owen Harris\",\n",
    "         \"Cumings, Mrs. John Bradley\",\n",
    "         \"Heikkinen, Miss. Laina\"]\n",
    "print(\"第 1 条:\", names[0])       # 索引从 0 开始\n",
    "print(\"一共几条:\", len(names))"
   ]
  },
  {
   "cell_type": "code",
   "execution_count": 4,
   "id": "aa2d145e-f3ca-4865-af81-06ed9af89b30",
   "metadata": {},
   "outputs": [
    {
     "name": "stdout",
     "output_type": "stream",
     "text": [
      "Braund, Mr\n",
      "Cumings, M\n",
      "Heikkinen,\n"
     ]
    }
   ],
   "source": [
    "for n in names:\n",
    "    print(n[:10])                 # 只打印前 10 个字符"
   ]
  },
  {
   "cell_type": "code",
   "execution_count": 5,
   "id": "69b37f62-6906-427d-b587-1d3b01528a58",
   "metadata": {},
   "outputs": [
    {
     "name": "stdout",
     "output_type": "stream",
     "text": [
      "Braund, Mr. Owen Harris\n",
      "Cumings, Mrs. John Bradley\n",
      "Heikkinen, Miss. Laina\n"
     ]
    }
   ],
   "source": [
    "for n in names:\n",
    "    if len(n)>20:\n",
    "        print(n)"
   ]
  },
  {
   "cell_type": "code",
   "execution_count": 8,
   "id": "618aaa66-a078-411f-863e-b0cf325ce66e",
   "metadata": {},
   "outputs": [
    {
     "name": "stdout",
     "output_type": "stream",
     "text": [
      "{'braund,': 1, 'mr.': 1, 'owen': 1, 'harris': 1, 'cumings,': 1, 'mrs.': 1, 'john': 1, 'bradley': 1, 'heikkinen,': 1, 'miss.': 1, 'laina': 1}\n"
     ]
    }
   ],
   "source": [
    "#记数\n",
    "count ={}\n",
    "for n in names:\n",
    "    words=n.lower().split()\n",
    "    for w in words:\n",
    "        if w in count:\n",
    "            count[w]+=1\n",
    "        else:\n",
    "            count[w]=1\n",
    "\n",
    "print(count)"
   ]
  },
  {
   "cell_type": "code",
   "execution_count": 9,
   "id": "b3484948-9a71-46bd-9970-d15fb20b2cdf",
   "metadata": {},
   "outputs": [
    {
     "data": {
      "text/plain": [
       "[('braund,', 1), ('mr.', 1), ('owen', 1)]"
      ]
     },
     "execution_count": 9,
     "metadata": {},
     "output_type": "execute_result"
    }
   ],
   "source": [
    "from collections import Counter\n",
    "\n",
    "all_words=[]\n",
    "for n in names:\n",
    "    all_words.extend(n.lower().split())\n",
    "cnt=Counter(all_words)\n",
    "cnt.most_common(3)\n"
   ]
  },
  {
   "cell_type": "code",
   "execution_count": 10,
   "id": "85db79e3-3038-422f-bfa8-217ef7b88d2e",
   "metadata": {},
   "outputs": [
    {
     "name": "stdout",
     "output_type": "stream",
     "text": [
      "Counter({'hello': 2, 'world': 1})\n"
     ]
    }
   ],
   "source": [
    "def count_words(text):\n",
    "    words=text.lower().split()\n",
    "    return Counter(words)\n",
    "\n",
    "demo=count_words(\"Hello hello world\")\n",
    "print(demo)"
   ]
  },
  {
   "cell_type": "markdown",
   "id": "fc5dc295-ef69-479a-92a4-439fb5fb8039",
   "metadata": {},
   "source": [
    "学习了python的一些基础语法，但是还需要深入学习，明天阅读一下python相关的书籍"
   ]
  },
  {
   "cell_type": "code",
   "execution_count": null,
   "id": "b86a43d6-b25a-4189-a24c-5156945e9926",
   "metadata": {},
   "outputs": [],
   "source": []
  }
 ],
 "metadata": {
  "kernelspec": {
   "display_name": "Python 3 (ipykernel)",
   "language": "python",
   "name": "python3"
  },
  "language_info": {
   "codemirror_mode": {
    "name": "ipython",
    "version": 3
   },
   "file_extension": ".py",
   "mimetype": "text/x-python",
   "name": "python",
   "nbconvert_exporter": "python",
   "pygments_lexer": "ipython3",
   "version": "3.10.18"
  }
 },
 "nbformat": 4,
 "nbformat_minor": 5
}
